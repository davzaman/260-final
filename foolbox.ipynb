{
 "cells": [
  {
   "cell_type": "code",
   "execution_count": 1,
   "metadata": {},
   "outputs": [],
   "source": [
    "import foolbox\n",
    "import numpy as np\n",
    "import torch\n",
    "import torch.nn as nn\n",
    "import torch.nn.functional as F\n",
    "import torch.optim as optim\n",
    "import torchvision.models as models\n",
    "import json\n",
    "from models import Model # Define different models to adversarially train\n",
    "from helpers import adv_train, adv_eval\n",
    "from advertorch.attacks import LinfPGDAttack\n",
    "    \n",
    "use_cuda = torch.cuda.is_available()\n",
    "device = torch.device(\"cuda\" if use_cuda else \"cpu\")\n",
    "\n",
    "with open('config.json') as config_file:\n",
    "    config = json.load(config_file)\n",
    "    \n",
    "model = Model()\n",
    "modeln = \"madryCNN\"\n",
    "model.to(device)\n",
    "optimizer = optim.Adam(model.parameters(), lr=1e-4)\n",
    "\n",
    "# Adversary used to train the network\n",
    "train_adv = LinfPGDAttack(\n",
    "                model, loss_fn=nn.CrossEntropyLoss(reduction=\"sum\"), \n",
    "                eps=config['epsilon'], nb_iter=config['k'],\n",
    "                eps_iter=config['a'],  rand_init=config['random_start'], \n",
    "                clip_min=0.0, clip_max=1.0, targeted=False)\n",
    "\n",
    "# Adversary used to test the network (the difference is the k_eval)\n",
    "test_adv = LinfPGDAttack(\n",
    "                model, loss_fn=nn.CrossEntropyLoss(reduction=\"sum\"), \n",
    "                eps=config['epsilon'], nb_iter=config['k_eval'],\n",
    "                eps_iter=config['a'],  rand_init=config['random_start'], \n",
    "                clip_min=0.0, clip_max=1.0, targeted=False)\n",
    "# Train the clean version\n",
    "#adv_train(model, modeln, optimizer, device, config, False)\n",
    "# Train the adversarial version\n",
    "#adv_train(model, modeln, optimizer, device, config, True, train_adv)"
   ]
  },
  {
   "cell_type": "code",
   "execution_count": 2,
   "metadata": {},
   "outputs": [
    {
     "name": "stdout",
     "output_type": "stream",
     "text": [
      "\n",
      "Test set: avg cln loss: 0.0553, cln acc: 9910/10000 (99%)\n",
      "\n",
      "Test set: avg adv loss: 0.0343, adv acc: 9898/10000 (99%)\n",
      "\n"
     ]
    }
   ],
   "source": [
    "import os\n",
    "model = Model()\n",
    "# Load model from serialized file from training\n",
    "model.load_state_dict(\n",
    "    torch.load(os.path.join(config['model_dir'], 'mnist_madryCNN_clntrained.pt')))\n",
    "model.to(device)\n",
    "model.eval()\n",
    "                                   \n",
    "adv_eval(model, device, test_adv, config['eval_batch_size'], True)\n"
   ]
  },
  {
   "cell_type": "code",
   "execution_count": null,
   "metadata": {
    "slideshow": {
     "slide_type": "slide"
    }
   },
   "outputs": [],
   "source": [
    "# # instantiate the model\n",
    "# model = Model()\n",
    "# if torch.cuda.is_available():\n",
    "#     model = model.cuda()\n",
    "    \n",
    "# # Model, bounds of pixel values, # prediction classes, \n",
    "# # Elementise subtract from the input the mean and then divide by std\n",
    "# mean = .1307 # TODO: change later 0,1 for no change\n",
    "# std = .3081\n",
    "# fmodel = foolbox.models.PyTorchModel(\n",
    "#     model, bounds=(0, 1), num_classes=10, preprocessing=(mean, std))\n",
    "\n",
    "# # get source image and label\n",
    "# image, label = foolbox.utils.imagenet_example(data_format='channels_first')\n",
    "# image = image / 255.  # because our model expects values in [0, 1]\n",
    "\n",
    "# print('label', label)\n",
    "# print('predicted class', np.argmax(fmodel.predictions(image)))\n",
    "\n",
    "# # apply attack on source image\n",
    "# attack = foolbox.attacks.FGSM(fmodel)\n",
    "# adversarial = attack(image, label)\n",
    "\n",
    "# print('adversarial class', np.argmax(fmodel.predictions(adversarial)))"
   ]
  }
 ],
 "metadata": {
  "kernelspec": {
   "display_name": "pytorch",
   "language": "python",
   "name": "pytorch"
  },
  "language_info": {
   "codemirror_mode": {
    "name": "ipython",
    "version": 3
   },
   "file_extension": ".py",
   "mimetype": "text/x-python",
   "name": "python",
   "nbconvert_exporter": "python",
   "pygments_lexer": "ipython3",
   "version": "3.7.2"
  }
 },
 "nbformat": 4,
 "nbformat_minor": 2
}
